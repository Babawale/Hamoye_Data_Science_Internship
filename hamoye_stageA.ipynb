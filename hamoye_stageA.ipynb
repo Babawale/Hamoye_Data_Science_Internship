{
  "cells": [
    {
      "metadata": {
        "trusted": true
      },
      "cell_type": "code",
      "source": "import pandas as pd",
      "execution_count": 1,
      "outputs": []
    },
    {
      "metadata": {
        "trusted": true
      },
      "cell_type": "code",
      "source": "url='https://github.com/WalePhenomenon/climate_change/blob/master/fuel_ferc1.csv?raw=true'\ndata = pd.read_csv(url, error_bad_lines=False)\ndata.describe(include='all')",
      "execution_count": 2,
      "outputs": [
        {
          "output_type": "execute_result",
          "execution_count": 2,
          "data": {
            "text/html": "<div>\n<style scoped>\n    .dataframe tbody tr th:only-of-type {\n        vertical-align: middle;\n    }\n\n    .dataframe tbody tr th {\n        vertical-align: top;\n    }\n\n    .dataframe thead th {\n        text-align: right;\n    }\n</style>\n<table border=\"1\" class=\"dataframe\">\n  <thead>\n    <tr style=\"text-align: right;\">\n      <th></th>\n      <th>record_id</th>\n      <th>utility_id_ferc1</th>\n      <th>report_year</th>\n      <th>plant_name_ferc1</th>\n      <th>fuel_type_code_pudl</th>\n      <th>fuel_unit</th>\n      <th>fuel_qty_burned</th>\n      <th>fuel_mmbtu_per_unit</th>\n      <th>fuel_cost_per_unit_burned</th>\n      <th>fuel_cost_per_unit_delivered</th>\n      <th>fuel_cost_per_mmbtu</th>\n    </tr>\n  </thead>\n  <tbody>\n    <tr>\n      <th>count</th>\n      <td>29523</td>\n      <td>29523.000000</td>\n      <td>29523.000000</td>\n      <td>29523</td>\n      <td>29523</td>\n      <td>29343</td>\n      <td>2.952300e+04</td>\n      <td>29523.000000</td>\n      <td>29523.000000</td>\n      <td>2.952300e+04</td>\n      <td>29523.000000</td>\n    </tr>\n    <tr>\n      <th>unique</th>\n      <td>29523</td>\n      <td>NaN</td>\n      <td>NaN</td>\n      <td>2315</td>\n      <td>6</td>\n      <td>9</td>\n      <td>NaN</td>\n      <td>NaN</td>\n      <td>NaN</td>\n      <td>NaN</td>\n      <td>NaN</td>\n    </tr>\n    <tr>\n      <th>top</th>\n      <td>f1_fuel_1996_12_120_0_14</td>\n      <td>NaN</td>\n      <td>NaN</td>\n      <td>big stone</td>\n      <td>gas</td>\n      <td>mcf</td>\n      <td>NaN</td>\n      <td>NaN</td>\n      <td>NaN</td>\n      <td>NaN</td>\n      <td>NaN</td>\n    </tr>\n    <tr>\n      <th>freq</th>\n      <td>1</td>\n      <td>NaN</td>\n      <td>NaN</td>\n      <td>156</td>\n      <td>11486</td>\n      <td>11354</td>\n      <td>NaN</td>\n      <td>NaN</td>\n      <td>NaN</td>\n      <td>NaN</td>\n      <td>NaN</td>\n    </tr>\n    <tr>\n      <th>mean</th>\n      <td>NaN</td>\n      <td>118.601836</td>\n      <td>2005.806050</td>\n      <td>NaN</td>\n      <td>NaN</td>\n      <td>NaN</td>\n      <td>2.622119e+06</td>\n      <td>8.492111</td>\n      <td>208.649031</td>\n      <td>9.175704e+02</td>\n      <td>19.304354</td>\n    </tr>\n    <tr>\n      <th>std</th>\n      <td>NaN</td>\n      <td>74.178353</td>\n      <td>7.025483</td>\n      <td>NaN</td>\n      <td>NaN</td>\n      <td>NaN</td>\n      <td>9.118004e+06</td>\n      <td>10.600220</td>\n      <td>2854.490090</td>\n      <td>6.877593e+04</td>\n      <td>2091.540939</td>\n    </tr>\n    <tr>\n      <th>min</th>\n      <td>NaN</td>\n      <td>1.000000</td>\n      <td>1994.000000</td>\n      <td>NaN</td>\n      <td>NaN</td>\n      <td>NaN</td>\n      <td>1.000000e+00</td>\n      <td>0.000001</td>\n      <td>-276.080000</td>\n      <td>-8.749370e+02</td>\n      <td>-41.501000</td>\n    </tr>\n    <tr>\n      <th>25%</th>\n      <td>NaN</td>\n      <td>55.000000</td>\n      <td>2000.000000</td>\n      <td>NaN</td>\n      <td>NaN</td>\n      <td>NaN</td>\n      <td>1.381700e+04</td>\n      <td>1.024000</td>\n      <td>5.207000</td>\n      <td>3.778500e+00</td>\n      <td>1.940000</td>\n    </tr>\n    <tr>\n      <th>50%</th>\n      <td>NaN</td>\n      <td>122.000000</td>\n      <td>2006.000000</td>\n      <td>NaN</td>\n      <td>NaN</td>\n      <td>NaN</td>\n      <td>2.533220e+05</td>\n      <td>5.762694</td>\n      <td>26.000000</td>\n      <td>1.737100e+01</td>\n      <td>4.127000</td>\n    </tr>\n    <tr>\n      <th>75%</th>\n      <td>NaN</td>\n      <td>176.000000</td>\n      <td>2012.000000</td>\n      <td>NaN</td>\n      <td>NaN</td>\n      <td>NaN</td>\n      <td>1.424034e+06</td>\n      <td>17.006000</td>\n      <td>47.113000</td>\n      <td>4.213700e+01</td>\n      <td>7.745000</td>\n    </tr>\n    <tr>\n      <th>max</th>\n      <td>NaN</td>\n      <td>514.000000</td>\n      <td>2018.000000</td>\n      <td>NaN</td>\n      <td>NaN</td>\n      <td>NaN</td>\n      <td>5.558942e+08</td>\n      <td>341.260000</td>\n      <td>139358.000000</td>\n      <td>7.964521e+06</td>\n      <td>359278.000000</td>\n    </tr>\n  </tbody>\n</table>\n</div>",
            "text/plain": "                       record_id  utility_id_ferc1   report_year  \\\ncount                      29523      29523.000000  29523.000000   \nunique                     29523               NaN           NaN   \ntop     f1_fuel_1996_12_120_0_14               NaN           NaN   \nfreq                           1               NaN           NaN   \nmean                         NaN        118.601836   2005.806050   \nstd                          NaN         74.178353      7.025483   \nmin                          NaN          1.000000   1994.000000   \n25%                          NaN         55.000000   2000.000000   \n50%                          NaN        122.000000   2006.000000   \n75%                          NaN        176.000000   2012.000000   \nmax                          NaN        514.000000   2018.000000   \n\n       plant_name_ferc1 fuel_type_code_pudl fuel_unit  fuel_qty_burned  \\\ncount             29523               29523     29343     2.952300e+04   \nunique             2315                   6         9              NaN   \ntop           big stone                 gas       mcf              NaN   \nfreq                156               11486     11354              NaN   \nmean                NaN                 NaN       NaN     2.622119e+06   \nstd                 NaN                 NaN       NaN     9.118004e+06   \nmin                 NaN                 NaN       NaN     1.000000e+00   \n25%                 NaN                 NaN       NaN     1.381700e+04   \n50%                 NaN                 NaN       NaN     2.533220e+05   \n75%                 NaN                 NaN       NaN     1.424034e+06   \nmax                 NaN                 NaN       NaN     5.558942e+08   \n\n        fuel_mmbtu_per_unit  fuel_cost_per_unit_burned  \\\ncount          29523.000000               29523.000000   \nunique                  NaN                        NaN   \ntop                     NaN                        NaN   \nfreq                    NaN                        NaN   \nmean               8.492111                 208.649031   \nstd               10.600220                2854.490090   \nmin                0.000001                -276.080000   \n25%                1.024000                   5.207000   \n50%                5.762694                  26.000000   \n75%               17.006000                  47.113000   \nmax              341.260000              139358.000000   \n\n        fuel_cost_per_unit_delivered  fuel_cost_per_mmbtu  \ncount                   2.952300e+04         29523.000000  \nunique                           NaN                  NaN  \ntop                              NaN                  NaN  \nfreq                             NaN                  NaN  \nmean                    9.175704e+02            19.304354  \nstd                     6.877593e+04          2091.540939  \nmin                    -8.749370e+02           -41.501000  \n25%                     3.778500e+00             1.940000  \n50%                     1.737100e+01             4.127000  \n75%                     4.213700e+01             7.745000  \nmax                     7.964521e+06        359278.000000  "
          },
          "metadata": {}
        }
      ]
    },
    {
      "metadata": {
        "trusted": true
      },
      "cell_type": "code",
      "source": "data.isnull().sum()",
      "execution_count": 3,
      "outputs": [
        {
          "output_type": "execute_result",
          "execution_count": 3,
          "data": {
            "text/plain": "record_id                         0\nutility_id_ferc1                  0\nreport_year                       0\nplant_name_ferc1                  0\nfuel_type_code_pudl               0\nfuel_unit                       180\nfuel_qty_burned                   0\nfuel_mmbtu_per_unit               0\nfuel_cost_per_unit_burned         0\nfuel_cost_per_unit_delivered      0\nfuel_cost_per_mmbtu               0\ndtype: int64"
          },
          "metadata": {}
        }
      ]
    },
    {
      "metadata": {
        "trusted": true
      },
      "cell_type": "code",
      "source": "data.isnull().mean()*100",
      "execution_count": 4,
      "outputs": [
        {
          "output_type": "execute_result",
          "execution_count": 4,
          "data": {
            "text/plain": "record_id                       0.000000\nutility_id_ferc1                0.000000\nreport_year                     0.000000\nplant_name_ferc1                0.000000\nfuel_type_code_pudl             0.000000\nfuel_unit                       0.609694\nfuel_qty_burned                 0.000000\nfuel_mmbtu_per_unit             0.000000\nfuel_cost_per_unit_burned       0.000000\nfuel_cost_per_unit_delivered    0.000000\nfuel_cost_per_mmbtu             0.000000\ndtype: float64"
          },
          "metadata": {}
        }
      ]
    },
    {
      "metadata": {
        "trusted": true
      },
      "cell_type": "code",
      "source": "data.groupby('fuel_type_code_pudl')['fuel_cost_per_unit_burned'].mean()",
      "execution_count": 5,
      "outputs": [
        {
          "output_type": "execute_result",
          "execution_count": 5,
          "data": {
            "text/plain": "fuel_type_code_pudl\ncoal         67.421830\ngas          13.659397\nnuclear    4955.157002\noil         168.877086\nother        18.253856\nwaste        19.518122\nName: fuel_cost_per_unit_burned, dtype: float64"
          },
          "metadata": {}
        }
      ]
    },
    {
      "metadata": {
        "trusted": true
      },
      "cell_type": "code",
      "source": "data.groupby('report_year')['fuel_cost_per_unit_delivered'].mean()",
      "execution_count": 6,
      "outputs": [
        {
          "output_type": "execute_result",
          "execution_count": 6,
          "data": {
            "text/plain": "report_year\n1994       63.636060\n1995       32.735269\n1996     9196.705948\n1997    11140.197239\n1998      287.154420\n1999       25.551627\n2000      985.362877\n2001       60.050396\n2002       47.594361\n2003       55.663493\n2004      139.524275\n2005       41.438184\n2006       38.657484\n2007       43.325023\n2008       58.588197\n2009      652.694163\n2010       91.862105\n2011       59.774667\n2012       60.994502\n2013      172.307591\n2014      192.737183\n2015      326.535511\n2016      103.901761\n2017       46.196861\n2018      499.269966\nName: fuel_cost_per_unit_delivered, dtype: float64"
          },
          "metadata": {}
        }
      ]
    },
    {
      "metadata": {
        "trusted": true
      },
      "cell_type": "code",
      "source": "data.corr()",
      "execution_count": 7,
      "outputs": [
        {
          "output_type": "execute_result",
          "execution_count": 7,
          "data": {
            "text/html": "<div>\n<style scoped>\n    .dataframe tbody tr th:only-of-type {\n        vertical-align: middle;\n    }\n\n    .dataframe tbody tr th {\n        vertical-align: top;\n    }\n\n    .dataframe thead th {\n        text-align: right;\n    }\n</style>\n<table border=\"1\" class=\"dataframe\">\n  <thead>\n    <tr style=\"text-align: right;\">\n      <th></th>\n      <th>utility_id_ferc1</th>\n      <th>report_year</th>\n      <th>fuel_qty_burned</th>\n      <th>fuel_mmbtu_per_unit</th>\n      <th>fuel_cost_per_unit_burned</th>\n      <th>fuel_cost_per_unit_delivered</th>\n      <th>fuel_cost_per_mmbtu</th>\n    </tr>\n  </thead>\n  <tbody>\n    <tr>\n      <th>utility_id_ferc1</th>\n      <td>1.000000</td>\n      <td>0.093323</td>\n      <td>-0.057447</td>\n      <td>-0.066946</td>\n      <td>-0.037863</td>\n      <td>-0.016414</td>\n      <td>0.006122</td>\n    </tr>\n    <tr>\n      <th>report_year</th>\n      <td>0.093323</td>\n      <td>1.000000</td>\n      <td>0.012952</td>\n      <td>-0.110853</td>\n      <td>0.013599</td>\n      <td>-0.014043</td>\n      <td>0.010261</td>\n    </tr>\n    <tr>\n      <th>fuel_qty_burned</th>\n      <td>-0.057447</td>\n      <td>0.012952</td>\n      <td>1.000000</td>\n      <td>-0.080946</td>\n      <td>-0.018535</td>\n      <td>-0.003551</td>\n      <td>-0.001896</td>\n    </tr>\n    <tr>\n      <th>fuel_mmbtu_per_unit</th>\n      <td>-0.066946</td>\n      <td>-0.110853</td>\n      <td>-0.080946</td>\n      <td>1.000000</td>\n      <td>-0.010034</td>\n      <td>-0.009039</td>\n      <td>-0.005884</td>\n    </tr>\n    <tr>\n      <th>fuel_cost_per_unit_burned</th>\n      <td>-0.037863</td>\n      <td>0.013599</td>\n      <td>-0.018535</td>\n      <td>-0.010034</td>\n      <td>1.000000</td>\n      <td>0.011007</td>\n      <td>-0.000437</td>\n    </tr>\n    <tr>\n      <th>fuel_cost_per_unit_delivered</th>\n      <td>-0.016414</td>\n      <td>-0.014043</td>\n      <td>-0.003551</td>\n      <td>-0.009039</td>\n      <td>0.011007</td>\n      <td>1.000000</td>\n      <td>-0.000109</td>\n    </tr>\n    <tr>\n      <th>fuel_cost_per_mmbtu</th>\n      <td>0.006122</td>\n      <td>0.010261</td>\n      <td>-0.001896</td>\n      <td>-0.005884</td>\n      <td>-0.000437</td>\n      <td>-0.000109</td>\n      <td>1.000000</td>\n    </tr>\n  </tbody>\n</table>\n</div>",
            "text/plain": "                              utility_id_ferc1  report_year  fuel_qty_burned  \\\nutility_id_ferc1                      1.000000     0.093323        -0.057447   \nreport_year                           0.093323     1.000000         0.012952   \nfuel_qty_burned                      -0.057447     0.012952         1.000000   \nfuel_mmbtu_per_unit                  -0.066946    -0.110853        -0.080946   \nfuel_cost_per_unit_burned            -0.037863     0.013599        -0.018535   \nfuel_cost_per_unit_delivered         -0.016414    -0.014043        -0.003551   \nfuel_cost_per_mmbtu                   0.006122     0.010261        -0.001896   \n\n                              fuel_mmbtu_per_unit  fuel_cost_per_unit_burned  \\\nutility_id_ferc1                        -0.066946                  -0.037863   \nreport_year                             -0.110853                   0.013599   \nfuel_qty_burned                         -0.080946                  -0.018535   \nfuel_mmbtu_per_unit                      1.000000                  -0.010034   \nfuel_cost_per_unit_burned               -0.010034                   1.000000   \nfuel_cost_per_unit_delivered            -0.009039                   0.011007   \nfuel_cost_per_mmbtu                     -0.005884                  -0.000437   \n\n                              fuel_cost_per_unit_delivered  \\\nutility_id_ferc1                                 -0.016414   \nreport_year                                      -0.014043   \nfuel_qty_burned                                  -0.003551   \nfuel_mmbtu_per_unit                              -0.009039   \nfuel_cost_per_unit_burned                         0.011007   \nfuel_cost_per_unit_delivered                      1.000000   \nfuel_cost_per_mmbtu                              -0.000109   \n\n                              fuel_cost_per_mmbtu  \nutility_id_ferc1                         0.006122  \nreport_year                              0.010261  \nfuel_qty_burned                         -0.001896  \nfuel_mmbtu_per_unit                     -0.005884  \nfuel_cost_per_unit_burned               -0.000437  \nfuel_cost_per_unit_delivered            -0.000109  \nfuel_cost_per_mmbtu                      1.000000  "
          },
          "metadata": {}
        }
      ]
    },
    {
      "metadata": {
        "trusted": true
      },
      "cell_type": "code",
      "source": "data.skew()",
      "execution_count": 8,
      "outputs": [
        {
          "output_type": "execute_result",
          "execution_count": 8,
          "data": {
            "text/plain": "utility_id_ferc1                  0.605070\nreport_year                       0.006953\nfuel_qty_burned                  15.851495\nfuel_mmbtu_per_unit               4.135217\nfuel_cost_per_unit_burned        19.787440\nfuel_cost_per_unit_delivered    105.014227\nfuel_cost_per_mmbtu             171.675535\ndtype: float64"
          },
          "metadata": {}
        }
      ]
    },
    {
      "metadata": {
        "trusted": true
      },
      "cell_type": "code",
      "source": "data.kurtosis()",
      "execution_count": 9,
      "outputs": [
        {
          "output_type": "execute_result",
          "execution_count": 9,
          "data": {
            "text/plain": "utility_id_ferc1                    1.088432\nreport_year                        -1.145656\nfuel_qty_burned                   651.369450\nfuel_mmbtu_per_unit                55.595695\nfuel_cost_per_unit_burned         485.255851\nfuel_cost_per_unit_delivered    11765.054226\nfuel_cost_per_mmbtu             29489.132594\ndtype: float64"
          },
          "metadata": {}
        }
      ]
    },
    {
      "metadata": {
        "trusted": true
      },
      "cell_type": "code",
      "source": "",
      "execution_count": null,
      "outputs": []
    }
  ],
  "metadata": {
    "kernelspec": {
      "name": "python36",
      "display_name": "Python 3.6",
      "language": "python"
    },
    "language_info": {
      "mimetype": "text/x-python",
      "nbconvert_exporter": "python",
      "name": "python",
      "pygments_lexer": "ipython3",
      "version": "3.6.6",
      "file_extension": ".py",
      "codemirror_mode": {
        "version": 3,
        "name": "ipython"
      }
    }
  },
  "nbformat": 4,
  "nbformat_minor": 2
}